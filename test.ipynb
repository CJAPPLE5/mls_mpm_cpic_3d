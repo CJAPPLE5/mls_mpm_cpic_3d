{
 "cells": [
  {
   "cell_type": "code",
   "execution_count": 12,
   "metadata": {},
   "outputs": [
    {
     "name": "stdout",
     "output_type": "stream",
     "text": [
      "[Taichi] Starting on arch=cuda\n"
     ]
    },
    {
     "ename": "NameError",
     "evalue": "name 'read_obj' is not defined",
     "output_type": "error",
     "traceback": [
      "\u001b[1;31m---------------------------------------------------------------------------\u001b[0m",
      "\u001b[1;31mNameError\u001b[0m                                 Traceback (most recent call last)",
      "\u001b[1;32m~\\AppData\\Local\\Temp/ipykernel_31628/384357395.py\u001b[0m in \u001b[0;36m<module>\u001b[1;34m\u001b[0m\n\u001b[0;32m      6\u001b[0m \u001b[1;31m# x_r = ti.Vector.field(3, dtype=float, shape = (2,3))\u001b[0m\u001b[1;33m\u001b[0m\u001b[1;33m\u001b[0m\u001b[1;33m\u001b[0m\u001b[0m\n\u001b[0;32m      7\u001b[0m \u001b[1;31m# x_pp = ti.Vector.field(3, dtype=float, shape=(2))\u001b[0m\u001b[1;33m\u001b[0m\u001b[1;33m\u001b[0m\u001b[1;33m\u001b[0m\u001b[0m\n\u001b[1;32m----> 8\u001b[1;33m \u001b[0mx_rp\u001b[0m\u001b[1;33m,\u001b[0m \u001b[0mx_r\u001b[0m \u001b[1;33m=\u001b[0m \u001b[0mread_obj\u001b[0m\u001b[1;33m(\u001b[0m\u001b[0mobj_file\u001b[0m\u001b[1;33m)\u001b[0m\u001b[1;33m\u001b[0m\u001b[1;33m\u001b[0m\u001b[0m\n\u001b[0m",
      "\u001b[1;31mNameError\u001b[0m: name 'read_obj' is not defined"
     ]
    }
   ],
   "source": [
    "import taichi as ti\n",
    "\n",
    "ti.init(arch=ti.gpu)\n",
    "\n",
    "# x_rp = ti.Vector.field(3, dtype=float, shape = (2))\n",
    "# x_r = ti.Vector.field(3, dtype=float, shape = (2,3))\n",
    "# x_pp = ti.Vector.field(3, dtype=float, shape=(2))\n",
    "x_rp, x_r = read_obj(obj_file)\n"
   ]
  },
  {
   "cell_type": "code",
   "execution_count": null,
   "metadata": {},
   "outputs": [],
   "source": []
  },
  {
   "cell_type": "code",
   "execution_count": 2,
   "metadata": {},
   "outputs": [],
   "source": [
    "x_r[0,0] = [1,0,0]\n",
    "x_r[0,1] = [0,1,0]\n",
    "x_r[0,2] = [0,0,1]\n",
    "x_rp[0] = [1/3, 1/3, 1/3]\n"
   ]
  },
  {
   "cell_type": "code",
   "execution_count": 5,
   "metadata": {},
   "outputs": [
    {
     "name": "stdout",
     "output_type": "stream",
     "text": [
      "0.0\n",
      "0.0\n",
      "0.0\n",
      "2.9802322387695312e-08\n"
     ]
    }
   ],
   "source": [
    "normal = (x_r[0,1]-x_r[0,0]).cross(x_r[0,2]-x_r[0,1])\n",
    "d = -1*normal.dot(x_r[0,0])\n",
    "print(x_r[0,0].dot(normal) + d)\n",
    "print(x_r[0,1].dot(normal) + d)\n",
    "print(x_r[0,2].dot(normal) + d)\n",
    "print(x_rp[0].dot(normal) + d)"
   ]
  },
  {
   "cell_type": "code",
   "execution_count": 8,
   "metadata": {},
   "outputs": [],
   "source": [
    "def isinplane(points, i):\n",
    "    flag = -1\n",
    "    distance = -1\n",
    "    T = -1\n",
    "    normal = (x_r[i,1]-x_r[i,0]).cross(x_r[i,2]-x_r[i,1])\n",
    "    print(normal)\n",
    "    d = -1*normal.dot(x_r[i,0])\n",
    "    xp = ((normal[1]**2 + normal[2]**2)*points[0] - normal[0]*(normal[1]*points[1]+normal[2]*points[2]+d)) / (normal[0]**2+normal[1]**2+normal[2]**2)\n",
    "    yp = ((normal[0]**2 + normal[2]**2)*points[1] - normal[1]*(normal[0]*points[0]+normal[2]*points[2]+d)) / (normal[0]**2+normal[1]**2+normal[2]**2)\n",
    "    zp = ((normal[0]**2 + normal[1]**2)*points[2] - normal[2]*(normal[0]*points[0]+normal[1]*points[1]+d)) / (normal[0]**2+normal[1]**2+normal[2]**2)\n",
    "    p_pro = ti.Vector([xp, yp, zp])\n",
    "    b1 = (p_pro-x_r[i,0]).cross(x_r[i,1]-x_r[i,0]).dot((x_r[i,2]-x_r[i,0]).cross(x_r[i,1]-x_r[i,0]))\n",
    "    b2 = (p_pro-x_r[i,1]).cross(x_r[i,2]-x_r[i,1]).dot((x_r[i,0]-x_r[i,1]).cross(x_r[i,2]-x_r[i,1]))\n",
    "    b3 = (p_pro-x_r[i,2]).cross(x_r[i,0]-x_r[i,2]).dot((x_r[i,1]-x_r[i,2]).cross(x_r[i,0]-x_r[i,2]))\n",
    "    if (b1>=0 and b2>=0 and b3>=0) or(b1<=0 and b2<=0 and b3<+0):\n",
    "        flag = 1\n",
    "    distance = (points.dot(normal)+d) / (normal[0]**2+normal[1]**2+normal[2]**2)\n",
    "    condi = (points-x_rp[i]).dot(normal) > 0\n",
    "    if condi:\n",
    "        T = 1\n",
    "    return flag, distance, T"
   ]
  },
  {
   "cell_type": "code",
   "execution_count": 11,
   "metadata": {},
   "outputs": [
    {
     "name": "stdout",
     "output_type": "stream",
     "text": [
      "[1. 1. 1.]\n"
     ]
    },
    {
     "data": {
      "text/plain": [
       "(1, 0.0, -1)"
      ]
     },
     "execution_count": 11,
     "metadata": {},
     "output_type": "execute_result"
    }
   ],
   "source": [
    "temp_p = ti.Vector([1,0,0])\n",
    "isinplane(temp_p, 0)"
   ]
  },
  {
   "cell_type": "code",
   "execution_count": null,
   "metadata": {},
   "outputs": [],
   "source": []
  }
 ],
 "metadata": {
  "interpreter": {
   "hash": "b3ba2566441a7c06988d0923437866b63cedc61552a5af99d1f4fb67d367b25f"
  },
  "kernelspec": {
   "display_name": "Python 3.7.4 ('base')",
   "language": "python",
   "name": "python3"
  },
  "language_info": {
   "codemirror_mode": {
    "name": "ipython",
    "version": 3
   },
   "file_extension": ".py",
   "mimetype": "text/x-python",
   "name": "python",
   "nbconvert_exporter": "python",
   "pygments_lexer": "ipython3",
   "version": "3.8.12"
  },
  "orig_nbformat": 4
 },
 "nbformat": 4,
 "nbformat_minor": 2
}
