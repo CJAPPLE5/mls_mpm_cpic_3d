{
 "cells": [
  {
   "cell_type": "code",
   "execution_count": 2,
   "metadata": {},
   "outputs": [
    {
     "name": "stdout",
     "output_type": "stream",
     "text": [
      "[Taichi] version 0.8.8, llvm 10.0.0, commit 7bae9c77, win, python 3.8.12\n",
      "[Taichi] Starting on arch=cuda\n"
     ]
    }
   ],
   "source": [
    "import taichi as ti\n",
    "\n",
    "ti.init(arch=ti.gpu)\n",
    "\n",
    "def read_obj(path):\n",
    "    f = open(path)\n",
    "\n",
    "    v_num = 0\n",
    "    f_num = 0\n",
    "\n",
    "    while f.readable():\n",
    "        s = f.readline()\n",
    "        if \"Vertices:\" in s:\n",
    "            v_num = int(s.split()[-1])\n",
    "        if \"Faces:\" in s:\n",
    "            f_num = int(s.split()[-1])\n",
    "        if \"v\" in s:\n",
    "            break\n",
    "\n",
    "    x_r = ti.Vector.field(3, dtype=float, shape=(f_num,3))\n",
    "    x_rp = ti.Vector.field(3, dtype=float, shape=f_num)\n",
    "\n",
    "    points = []\n",
    "    faces = []\n",
    "\n",
    "    for i in range(v_num):\n",
    "        ps = [float(j) for j in  s.split()[1:]]\n",
    "        points.append(ps)\n",
    "        s = f.readline()\n",
    "\n",
    "    while \"f\" not in s:\n",
    "        s = f.readline()\n",
    "\n",
    "    for i in range(f_num):\n",
    "        fs = [int(j) for j in  s.split()[1:]]\n",
    "        faces.append(fs)\n",
    "        s = f.readline()\n",
    "\n",
    "    for i in range(f_num):\n",
    "        ps = [points[j-1] for j in faces[i]]\n",
    "        for j in range(3):\n",
    "            x_r[i,j] = ps[j]\n",
    "        x_rp[i] = (x_r[i,0] + x_r[i,1] + x_r[i,2]) / 3\n",
    "    f.close()\n",
    "    return x_rp, x_r\n",
    "\n",
    "x_rp, x_r = read_obj(\"./python/ring1.obj\")\n",
    "\n",
    "# x_rp = ti.Vector.field(3, dtype=float, shape = (2))\n",
    "# x_r = ti.Vector.field(3, dtype=float, shape = (2,3))\n",
    "# x_pp = ti.Vector.field(3, dtype=float, shape=(2))\n"
   ]
  },
  {
   "cell_type": "code",
   "execution_count": 36,
   "metadata": {},
   "outputs": [
    {
     "name": "stdout",
     "output_type": "stream",
     "text": [
      "0\n",
      "1\n"
     ]
    },
    {
     "data": {
      "text/plain": [
       "2"
      ]
     },
     "execution_count": 36,
     "metadata": {},
     "output_type": "execute_result"
    }
   ],
   "source": [
    "import os\n",
    "\n",
    "dir_num = -1\n",
    "for root,dirs,files in os.walk('./tmp'):\n",
    "    # print(dirs)\n",
    "    for temp_dir in dirs:\n",
    "        dir_num = max(dir_num,int(temp_dir[3:]))\n",
    "        print(dir_num)\n",
    "dir_num += 1\n",
    "dir_num\n"
   ]
  },
  {
   "cell_type": "code",
   "execution_count": 20,
   "metadata": {},
   "outputs": [
    {
     "data": {
      "text/plain": [
       "0"
      ]
     },
     "execution_count": 20,
     "metadata": {},
     "output_type": "execute_result"
    }
   ],
   "source": [
    "int(dirs[0][3:])"
   ]
  },
  {
   "cell_type": "code",
   "execution_count": 29,
   "metadata": {},
   "outputs": [
    {
     "name": "stdout",
     "output_type": "stream",
     "text": [
      "woc\n"
     ]
    }
   ],
   "source": [
    "offset = ti.Vector([1,2,3])\n",
    "if offset[0] >= 32 or offset[1] >= 21:\n",
    "    print(\"nmsl\")\n",
    "else:\n",
    "    print(\"woc\")"
   ]
  },
  {
   "cell_type": "code",
   "execution_count": 3,
   "metadata": {},
   "outputs": [],
   "source": [
    "x_r[0,0] = [1,0,0]\n",
    "x_r[0,1] = [0,1,0]\n",
    "x_r[0,2] = [0,0,1]\n",
    "x_rp[0] = [1/3, 1/3, 1/3]\n"
   ]
  },
  {
   "cell_type": "code",
   "execution_count": 21,
   "metadata": {},
   "outputs": [
    {
     "name": "stdout",
     "output_type": "stream",
     "text": [
      "0.0 7.782926835241133e-06\n"
     ]
    }
   ],
   "source": [
    "i = 0\n",
    "nor = (x_r[i,1]-x_r[i,0]).cross(x_r[i,2]-x_r[i,1])\n",
    "d = -1*nor.dot(x_r[i,0])\n",
    "print(x_r[i,1].dot(nor) + d,(x_r[i,1]+x_r[i,0]+x_r[i,2]).dot(nor) )"
   ]
  },
  {
   "cell_type": "code",
   "execution_count": 5,
   "metadata": {},
   "outputs": [
    {
     "name": "stdout",
     "output_type": "stream",
     "text": [
      "0.0\n",
      "0.0\n",
      "0.0\n",
      "2.9802322387695312e-08\n"
     ]
    }
   ],
   "source": [
    "normal = (x_r[0,1]-x_r[0,0]).cross(x_r[0,2]-x_r[0,1])\n",
    "d = -1*normal.dot(x_r[0,0])\n",
    "print(x_r[0,0].dot(normal) + d)\n",
    "print(x_r[0,1].dot(normal) + d)\n",
    "print(x_r[0,2].dot(normal) + d)\n",
    "print(x_rp[0].dot(normal) + d)"
   ]
  },
  {
   "cell_type": "code",
   "execution_count": 23,
   "metadata": {},
   "outputs": [
    {
     "data": {
      "text/plain": [
       "0.75"
      ]
     },
     "execution_count": 23,
     "metadata": {},
     "output_type": "execute_result"
    }
   ],
   "source": [
    "48/64"
   ]
  },
  {
   "cell_type": "code",
   "execution_count": 7,
   "metadata": {},
   "outputs": [],
   "source": [
    "# @ti.func\n",
    "def isinplane(points, i):\n",
    "    flag = False\n",
    "    T = -1\n",
    "    normal = (x_r[i,1]-x_r[i,0]).cross(x_r[i,2]-x_r[i,1])\n",
    "    d = -1*normal.dot(x_r[i,0])\n",
    "    xp = ((normal[1]**2 + normal[2]**2)*points[0] - normal[0]*(normal[1]*points[1]+normal[2]*points[2]+d)) / (normal[0]**2+normal[1]**2+normal[2]**2)\n",
    "    yp = ((normal[2]**2 + normal[0]**2)*points[1] - normal[1]*(normal[0]*points[0]+normal[2]*points[2]+d)) / (normal[0]**2+normal[1]**2+normal[2]**2)\n",
    "    zp = ((normal[0]**2 + normal[1]**2)*points[2] - normal[2]*(normal[0]*points[0]+normal[1]*points[1]+d)) / (normal[0]**2+normal[1]**2+normal[2]**2)\n",
    "    p_pro = ti.Vector([xp, yp, zp])\n",
    "    b1 = (p_pro-x_r[i,0]).cross(x_r[i,1]-x_r[i,0]).dot((x_r[i,2]-x_r[i,0]).cross(x_r[i,1]-x_r[i,0]))\n",
    "    b2 = (p_pro-x_r[i,1]).cross(x_r[i,2]-x_r[i,1]).dot((x_r[i,0]-x_r[i,1]).cross(x_r[i,2]-x_r[i,1]))\n",
    "    b3 = (p_pro-x_r[i,2]).cross(x_r[i,0]-x_r[i,2]).dot((x_r[i,1]-x_r[i,2]).cross(x_r[i,0]-x_r[i,2]))\n",
    "    distance = abs(points.dot(normal)+d) / (normal[0]**2+normal[1]**2+normal[2]**2)\n",
    "    if (b1>=0 and b2>=0 and b3>=0) or(b1<=0 and b2<=0 and b3<=0):\n",
    "        flag = True\n",
    "    if (points-x_rp[i]).dot(normal) > 0:\n",
    "        T = 1\n",
    "    return flag, distance, T, normal"
   ]
  },
  {
   "cell_type": "code",
   "execution_count": 8,
   "metadata": {},
   "outputs": [
    {
     "data": {
      "text/plain": [
       "(False, 15607.284351178852, -1, [1.24847964e-06 2.16304178e-06 2.16783036e-10])"
      ]
     },
     "execution_count": 8,
     "metadata": {},
     "output_type": "execute_result"
    }
   ],
   "source": [
    "temp_p = ti.Vector([2,0,0])\n",
    "isinplane(temp_p, 0)"
   ]
  },
  {
   "cell_type": "code",
   "execution_count": 10,
   "metadata": {},
   "outputs": [],
   "source": [
    "x1 = [0.521690, 0.898268, -0.007316]\n",
    "x2 = [0.519384, 0.899599, -0.007785]\n",
    "x3 = [0.517078, 0.900930, -0.007316]"
   ]
  },
  {
   "cell_type": "code",
   "execution_count": 13,
   "metadata": {},
   "outputs": [
    {
     "name": "stdout",
     "output_type": "stream",
     "text": [
      "-0.0023059999999999192\n",
      "0.001330999999999971\n",
      "0.00046900000000000067\n"
     ]
    }
   ],
   "source": [
    "for i in range(3):\n",
    "    print(x3[i]-x2[i])"
   ]
  },
  {
   "cell_type": "code",
   "execution_count": null,
   "metadata": {},
   "outputs": [],
   "source": []
  }
 ],
 "metadata": {
  "interpreter": {
   "hash": "b3ba2566441a7c06988d0923437866b63cedc61552a5af99d1f4fb67d367b25f"
  },
  "kernelspec": {
   "display_name": "Python 3.7.4 ('base')",
   "language": "python",
   "name": "python3"
  },
  "language_info": {
   "codemirror_mode": {
    "name": "ipython",
    "version": 3
   },
   "file_extension": ".py",
   "mimetype": "text/x-python",
   "name": "python",
   "nbconvert_exporter": "python",
   "pygments_lexer": "ipython3",
   "version": "3.8.12"
  },
  "orig_nbformat": 4
 },
 "nbformat": 4,
 "nbformat_minor": 2
}
